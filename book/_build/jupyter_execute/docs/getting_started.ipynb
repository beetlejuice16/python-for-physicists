{
 "cells": [
  {
   "cell_type": "markdown",
   "id": "07b92da8",
   "metadata": {},
   "source": [
    "(getting_started)=\n",
    "\n",
    "# Quick and Dirty tips\n",
    "\n",
    "When you first want to use python for any sort of physics problem it will probably fall under one of these three categories:\n",
    "\n",
    "* Calculating a value (e.g Integral) from a set of data.\n",
    "* Fitting data to a curve.\n",
    "* Plotting a visualization of the data you have.\n",
    "\n",
    "You've probably done some plotting in something like excel or google sheets before and it is a quick and easy way to do that. However, python has an extensive library of tools that make your visualizations much more appealing. \n",
    "\n",
    "The amount of tools might seem daunting at first, so this section is going to be concerned with *how to use* these tools and not with how they work. We will also offer a quick template into which you can copy your own (x,y) data into and it will do some basic visualization of it.\n",
    "\n",
    "---\n",
    "\n",
    "If you were introduced to python in a class you will probably have heard or seen people use a \"Jupyter Notebook\". This is basically a tool that allows you to run python code inside of \"cells\" instead of having to write a script and run it from you command line. It is a very convenient tool and will basically cover all your needs unless you decide to dive a lot deeper into programming.\n",
    "\n",
    "---\n",
    "\n",
    "Let's start with a basic problem. You have some $x$ and $y$ data and you want to plot it to see how it looks. For that you need 1 maybe 2 things at most. First you need to *import* the *libraries* you want to use. These are essentially extensions to the barebones python that you have and allow to simply tell it to do things instead of writing all the procedures from scratch. So to start we need to import the plotting library (matplotlib)\n",
    "\n",
    "```python\n",
    "import matplotlib.pyplot as plt\n",
    "```\n",
    "\n",
    "Don't worry much about the pyplot part. All you need to know for now is that you have *imported* your plotting library. This contains all the tools you need to plot. And by saying `as plt` you have essentially told your notebook that instead of always writing `matplotlib.pyplot` everytime you want to use it you will simply write `plt`.\n",
    "\n",
    "Now let's do a quick example to show what functionalities we have uncovered with this one line of code. Let's say you have the following $x$ and $y$ data. $x:{0,1,2,3,4,5}$ and $y:{3,4,5,6,7}$ These are the data points $(x,y)$ you want to plot. So there are a few steps you need to do: the first is to tell your notebook what your data is:\n",
    "\n",
    "```python\n",
    "x = [0, 1, 2, 3, 4, 5]\n",
    "y = [3, 4, 5, 6, 7, 8]\n",
    "```\n",
    "\n",
    "Notice that in python when you want to give a collection of data you have to surround it with square brackets '[.]' and separate the data by commas ','. What we have created here are called lists, but for now you don't need to know more about what they are. To plot this all you have to do is the following:\n",
    "\n",
    "```python\n",
    "plt.plot(x, y)\n",
    "```\n",
    "And this is what you will see.\n",
    "\n",
    "```{figure} /_static/lecture_specific/getting_started/Example1.png\n",
    "```\n",
    "\n",
    "As you may have noticed this is pretty barebones so we can add a few lines of code to make it look somewhat more presentable.\n",
    "\n",
    "```python\n",
    "plt.plot(x, y)\n",
    "plt.xlabel('x')\n",
    "plt.ylabel('y')\n",
    "plt.title('My Plot')\n",
    "```\n",
    "Now we have labels on our axis and a title.\n",
    "\n",
    "```{figure} /_static/lecture_specific/getting_started/Example2.png\n",
    "```\n",
    "\n",
    "However it could just look prettier overall. There are a lot of parameters one could tweak but the easiest and quickest way to do this is to set the style as such\n",
    "\n",
    "```python\n",
    "plt.style.use('seaborn-darkgrid')\n",
    "plt.plot(x, y)\n",
    "plt.xlabel('x')\n",
    "plt.ylabel('y')\n",
    "plt.title('My Plot')\n",
    "```\n",
    "\n",
    "```{figure} /_static/lecture_specific/getting_started/Example3.png\n",
    "```"
   ]
  }
 ],
 "metadata": {
  "jupytext": {
   "text_representation": {
    "extension": ".md",
    "format_name": "myst"
   }
  },
  "kernelspec": {
   "display_name": "Python 3",
   "language": "python",
   "name": "python3"
  },
  "language_info": {
   "codemirror_mode": {
    "name": "ipython",
    "version": 3
   },
   "file_extension": ".py",
   "mimetype": "text/x-python",
   "name": "python",
   "nbconvert_exporter": "python",
   "pygments_lexer": "ipython3",
   "version": "3.8.12"
  },
  "source_map": [
   10
  ]
 },
 "nbformat": 4,
 "nbformat_minor": 5
}